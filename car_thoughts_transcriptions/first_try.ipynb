{
 "cells": [
  {
   "cell_type": "markdown",
   "metadata": {},
   "source": [
    "https://deepgram.com/learn/best-python-audio-libraries-for-speech-recognition-in-2023"
   ]
  },
  {
   "cell_type": "code",
   "execution_count": 23,
   "metadata": {},
   "outputs": [],
   "source": [
    "import speech_recognition as sr\n",
    "from os import path, mkdir, listdir\n",
    "from pydub import AudioSegment\n",
    "import numpy as np"
   ]
  },
  {
   "cell_type": "code",
   "execution_count": 40,
   "metadata": {},
   "outputs": [],
   "source": [
    "# MacOS Path\n",
    "base_path = '/Users/nicolasromano/Documents/Documents - Nicolas’s MacBook Pro/code/AlgoRhythms/Digital_Audio/sound_files/car_thoughts/Aug31-Sep3/'\n",
    "audio_title = 'visual_music_characteristics.m4a'\n",
    "m4a_file = base_path + audio_title\n",
    "GOOGLE_CLOUD_SPEECH_CREDENTIALS = '/Users/nicolasromano/Documents/Documents - Nicolas’s MacBook Pro/code/AlgoRhythms/Digital_Audio/car_thoughts_transcriptions/serene-coyote-346200-4ce0fdf7b3b7.json'\n",
    "\n",
    "wav_file = AudioSegment.from_file(m4a_file, format='m4a')\n",
    "wav_path = f'{m4a_file[0:-3]}wav'\n",
    "file_handle = wav_file.export(wav_path, format='wav')"
   ]
  },
  {
   "cell_type": "code",
   "execution_count": 18,
   "metadata": {},
   "outputs": [
    {
     "data": {
      "text/plain": [
       "1563"
      ]
     },
     "execution_count": 18,
     "metadata": {},
     "output_type": "execute_result"
    }
   ],
   "source": [
    "file_duration_secs = int(len(wav_file) / 1000)\n",
    "file_duration_secs"
   ]
  },
  {
   "cell_type": "code",
   "execution_count": 19,
   "metadata": {},
   "outputs": [],
   "source": [
    "try:\n",
    "    mkdir(base_path + 'minute_clips') # folder to store 1 min MAX segmented clips\n",
    "except FileExistsError:\n",
    "    pass # path already made\n",
    "start = 0\n",
    "end = 60\n",
    "\n",
    "while end <= file_duration_secs:\n",
    "    t1 = start\n",
    "    t2 = end # first 2 mins\n",
    "\n",
    "    t1 = t1 * 1000 #Works in milliseconds\n",
    "    t2 = t2 * 1000\n",
    "    newAudio = AudioSegment.from_wav(wav_path)\n",
    "    newAudio = newAudio[t1:t2]\n",
    "\n",
    "    newAudio.export(f'{base_path}/minute_clips/{int(end / 60) - 1}.wav', format=\"wav\") #Exports to a wav file in the current path.\n",
    "\n",
    "    start += 60\n",
    "    end += 60"
   ]
  },
  {
   "cell_type": "code",
   "execution_count": 52,
   "metadata": {},
   "outputs": [],
   "source": [
    "audio_files = []\n",
    "for i in range(0, len(listdir(f'{base_path}/minute_clips'))):\n",
    "    audio_files.append(f'{base_path}/minute_clips/{i}.wav')"
   ]
  },
  {
   "cell_type": "code",
   "execution_count": 53,
   "metadata": {},
   "outputs": [],
   "source": [
    "first_file = True\n",
    "for path in audio_files:\n",
    "    if first_file:\n",
    "        transcription_filename = \"transcription.txt\"\n",
    "        transcription = open(transcription_filename, \"w\")\n",
    "        r = sr.Recognizer()\n",
    "        with sr.AudioFile(path) as source:\n",
    "            audio = r.record(source)  # read the entire audio file\n",
    "\n",
    "        txt_read = r.recognize_google_cloud(audio, credentials_json=GOOGLE_CLOUD_SPEECH_CREDENTIALS)\n",
    "\n",
    "        transcription.writelines(txt_read)\n",
    "        transcription.close()\n",
    "        first_file = False\n",
    "\n",
    "    else:\n",
    "        file1 = open(transcription_filename, \"a\")  # append mode\n",
    "        r = sr.Recognizer()\n",
    "        with sr.AudioFile(path) as source:\n",
    "            audio = r.record(source)  # read the entire audio file\n",
    "\n",
    "        txt_read = r.recognize_google_cloud(audio, credentials_json=GOOGLE_CLOUD_SPEECH_CREDENTIALS)\n",
    "\n",
    "        file1.write('\\n' + txt_read)\n",
    "        file1.close()\n"
   ]
  }
 ],
 "metadata": {
  "kernelspec": {
   "display_name": "Python 3.11.2 ('.venv': venv)",
   "language": "python",
   "name": "python3"
  },
  "language_info": {
   "codemirror_mode": {
    "name": "ipython",
    "version": 3
   },
   "file_extension": ".py",
   "mimetype": "text/x-python",
   "name": "python",
   "nbconvert_exporter": "python",
   "pygments_lexer": "ipython3",
   "version": "3.11.2"
  },
  "orig_nbformat": 4,
  "vscode": {
   "interpreter": {
    "hash": "57c929fe03e723d2be6a7be66a00867cc38dc9903df83aaff55b2ebab5f7f025"
   }
  }
 },
 "nbformat": 4,
 "nbformat_minor": 2
}
