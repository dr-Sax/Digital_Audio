{
 "cells": [
  {
   "cell_type": "markdown",
   "metadata": {},
   "source": [
    "https://deepgram.com/learn/best-python-audio-libraries-for-speech-recognition-in-2023"
   ]
  },
  {
   "cell_type": "code",
   "execution_count": 1,
   "metadata": {},
   "outputs": [],
   "source": [
    "import speech_recognition as sr\n",
    "from os import path\n",
    "from pydub import AudioSegment"
   ]
  },
  {
   "cell_type": "code",
   "execution_count": 2,
   "metadata": {},
   "outputs": [],
   "source": [
    "# MacOS Path\n",
    "m4a_file = '/Users/nicolasromano/Documents/code/AlgoRhythms/Digital_Audio/sound_files/car_thoughts/Aug31-Sep3/visual_music_characteristics.m4a'\n",
    "wav_file = AudioSegment.from_file(m4a_file, format='m4a')\n",
    "wav_path = f'{m4a_file[0:-3]}wav'\n",
    "file_handle = wav_file.export(wav_path, format='wav')"
   ]
  },
  {
   "cell_type": "code",
   "execution_count": 8,
   "metadata": {},
   "outputs": [
    {
     "data": {
      "text/plain": [
       "<_io.BufferedRandom name='/Users/nicolasromano/Documents/code/AlgoRhythms/Digital_Audio/sound_files/car_thoughts/Aug31-Sep3/visual_music_characteristics_1.wav'>"
      ]
     },
     "execution_count": 8,
     "metadata": {},
     "output_type": "execute_result"
    }
   ],
   "source": [
    "t1 = 0\n",
    "t2 = 60 # first 2 mins\n",
    "\n",
    "t1 = t1 * 1000 #Works in milliseconds\n",
    "t2 = t2 * 1000\n",
    "newAudio = AudioSegment.from_wav(wav_path)\n",
    "newAudio = newAudio[t1:t2]\n",
    "newAudio.export(f'{wav_path[0:-4]}_1.wav', format=\"wav\") #Exports to a wav file in the current path."
   ]
  },
  {
   "cell_type": "code",
   "execution_count": 9,
   "metadata": {},
   "outputs": [],
   "source": [
    "# use the audio file as the audio source\n",
    "r = sr.Recognizer()\n",
    "with sr.AudioFile(f'{wav_path[0:-4]}_1.wav') as source:\n",
    "    audio = r.record(source)  # read the entire audio file"
   ]
  },
  {
   "cell_type": "code",
   "execution_count": 10,
   "metadata": {},
   "outputs": [
    {
     "name": "stdout",
     "output_type": "stream",
     "text": [
      "Google Cloud Speech thinks you said so this is this is your this is your nightly brought to you by the United results brought to you by your nightly thoughts brought to you is there a challenging question it's a challenging thing to choose not to read books and learn things from books \n"
     ]
    }
   ],
   "source": [
    "# recognize speech using Google Cloud Speech\n",
    "GOOGLE_CLOUD_SPEECH_CREDENTIALS = '/Users/nicolasromano/Documents/code/AlgoRhythms/Digital_Audio/car_thoughts_transcriptions/serene-coyote-346200-4ce0fdf7b3b7.json'\n",
    "try:\n",
    "    print(\"Google Cloud Speech thinks you said \" + r.recognize_google_cloud(audio, credentials_json=GOOGLE_CLOUD_SPEECH_CREDENTIALS))\n",
    "except sr.UnknownValueError:\n",
    "    print(\"Google Cloud Speech could not understand audio\")\n",
    "except sr.RequestError as e:\n",
    "    print(\"Could not request results from Google Cloud Speech service; {0}\".format(e))"
   ]
  }
 ],
 "metadata": {
  "kernelspec": {
   "display_name": "Python 3.11.2 ('venv': venv)",
   "language": "python",
   "name": "python3"
  },
  "language_info": {
   "codemirror_mode": {
    "name": "ipython",
    "version": 3
   },
   "file_extension": ".py",
   "mimetype": "text/x-python",
   "name": "python",
   "nbconvert_exporter": "python",
   "pygments_lexer": "ipython3",
   "version": "3.11.2"
  },
  "orig_nbformat": 4,
  "vscode": {
   "interpreter": {
    "hash": "dd145e6e274c3e7cbb262e4d64e307cdd2c340995a87068f9fcb42657e1c7fcd"
   }
  }
 },
 "nbformat": 4,
 "nbformat_minor": 2
}
