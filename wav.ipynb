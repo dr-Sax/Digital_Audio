{
 "cells": [
  {
   "cell_type": "markdown",
   "metadata": {},
   "source": [
    "# WAV\n",
    "https://docs.python.org/3/library/wave.html\n",
    "https://en.wikipedia.org/wiki/WAV\n",
    "\n",
    "* Linear Pulse Code Modulated\n",
    "* Uncompressed\n",
    "* RIFF Resource Interchange File Format\n"
   ]
  },
  {
   "cell_type": "code",
   "execution_count": 41,
   "metadata": {},
   "outputs": [],
   "source": [
    "import wave"
   ]
  },
  {
   "cell_type": "markdown",
   "metadata": {},
   "source": [
    "### rb = read only mode, wb = write only mode"
   ]
  },
  {
   "cell_type": "code",
   "execution_count": 75,
   "metadata": {},
   "outputs": [
    {
     "name": "stdout",
     "output_type": "stream",
     "text": [
      "Frame Rate: 32000 Hz\n",
      "Total Frames 320303\n",
      "Sample Width 2\n",
      "Channel Count 2\n",
      "_wave_params(nchannels=2, sampwidth=2, framerate=32000, nframes=320303, comptype='NONE', compname='not compressed')\n"
     ]
    }
   ],
   "source": [
    "file_path = '/Users/nicolasromano/Documents/code/AlgoRhythms/Digital_Audio/sound_files/test1.wav'\n",
    "wave_data = wave.open(file_path, 'rb')\n",
    "framerate = wave_data.getframerate()\n",
    "print('Frame Rate:', framerate, 'Hz')\n",
    "total_frames = wave_data.getnframes()\n",
    "print('Total Frames', total_frames)\n",
    "sample_width = wave_data.getsampwidth()\n",
    "print('Sample Width', sample_width)\n",
    "channels = wave_data.getnchannels()\n",
    "print('Channel Count', channels)\n",
    "print(wave_data.getparams())\n",
    "wave_data.close()"
   ]
  },
  {
   "cell_type": "code",
   "execution_count": 77,
   "metadata": {},
   "outputs": [
    {
     "name": "stdout",
     "output_type": "stream",
     "text": [
      "audio file duration (s) 10.00946875\n"
     ]
    }
   ],
   "source": [
    "song_length = total_frames / framerate\n",
    "print('audio file duration (s)', song_length)"
   ]
  },
  {
   "cell_type": "code",
   "execution_count": 50,
   "metadata": {},
   "outputs": [],
   "source": [
    "wave_data = wave.open(file_path, 'rb')\n",
    "data = wave_data.readframes(total_frames)\n",
    "wave_data.close()"
   ]
  },
  {
   "cell_type": "code",
   "execution_count": 51,
   "metadata": {},
   "outputs": [],
   "source": [
    "from pydub import AudioSegment\n",
    "\n",
    "sound = AudioSegment(\n",
    "    # raw audio data (bytes)\n",
    "    data = data,\n",
    "\n",
    "    # 2 byte (16 bit) samples\n",
    "    sample_width = sample_width,\n",
    "\n",
    "    # 44.1 kHz frame rate\n",
    "    frame_rate = framerate,\n",
    "\n",
    "    # stereo\n",
    "    channels = channels\n",
    ")"
   ]
  },
  {
   "cell_type": "code",
   "execution_count": 87,
   "metadata": {},
   "outputs": [],
   "source": [
    "import numpy as np\n",
    "b_array = bytearray(data)\n",
    "\n",
    "for i in range(0, 11):\n",
    "    b_array[i * framerate] = 255\n",
    "\n",
    "\n",
    "mod_d = bytes(b_array)"
   ]
  },
  {
   "cell_type": "code",
   "execution_count": 92,
   "metadata": {},
   "outputs": [
    {
     "data": {
      "text/plain": [
       "<_io.BufferedRandom name='new'>"
      ]
     },
     "execution_count": 92,
     "metadata": {},
     "output_type": "execute_result"
    }
   ],
   "source": [
    "from pydub import AudioSegment\n",
    "\n",
    "sound = AudioSegment(\n",
    "    # raw audio data (bytes)\n",
    "    data = data,\n",
    "\n",
    "    # 2 byte (16 bit) samples\n",
    "    sample_width = sample_width,\n",
    "\n",
    "    # 44.1 kHz frame rate\n",
    "    frame_rate = framerate,\n",
    "\n",
    "    # stereo\n",
    "    channels = channels\n",
    ")\n",
    "\n",
    "sound.export('new.wav', format = 'wav')"
   ]
  }
 ],
 "metadata": {
  "kernelspec": {
   "display_name": "Python 3.11.2 ('venv': venv)",
   "language": "python",
   "name": "python3"
  },
  "language_info": {
   "codemirror_mode": {
    "name": "ipython",
    "version": 3
   },
   "file_extension": ".py",
   "mimetype": "text/x-python",
   "name": "python",
   "nbconvert_exporter": "python",
   "pygments_lexer": "ipython3",
   "version": "3.11.2"
  },
  "orig_nbformat": 4,
  "vscode": {
   "interpreter": {
    "hash": "dd145e6e274c3e7cbb262e4d64e307cdd2c340995a87068f9fcb42657e1c7fcd"
   }
  }
 },
 "nbformat": 4,
 "nbformat_minor": 2
}
