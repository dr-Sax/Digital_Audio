{
 "cells": [
  {
   "cell_type": "markdown",
   "metadata": {},
   "source": [
    "# 2.5 Binary Square Waves\n"
   ]
  },
  {
   "cell_type": "markdown",
   "metadata": {},
   "source": [
    "$$\n",
    "r_1(x, y) = \\sum_{n=-\\infty}^{\\infty} a^{(1)} _n \\cos(\\frac {2 \\pi nx}{T_1})\n",
    "$$"
   ]
  },
  {
   "cell_type": "markdown",
   "metadata": {},
   "source": [
    "$$\n",
    "a^{(1)}_n = \\frac{1}{n \\pi} \\sin(\\frac {\\pi n \\tau_1 }{T_1}) = \\frac{\\tau_1}{T_1} sinc(\\frac {n \\tau_1}{T_1})\n",
    "$$"
   ]
  },
  {
   "cell_type": "markdown",
   "metadata": {},
   "source": [
    "The Sinc function has a max amplitude of tau / T or rather, the dwell of a square pulse divided by its Period.  "
   ]
  },
  {
   "cell_type": "code",
   "execution_count": 12,
   "metadata": {},
   "outputs": [],
   "source": [
    "import numpy as np\n",
    "import pandas as pd\n",
    "from scipy.fft import fft2, ifft2, ifftshift, fftshift\n",
    "import matplotlib.pyplot as plt\n",
    "%matplotlib inline\n",
    "import cv2"
   ]
  },
  {
   "cell_type": "code",
   "execution_count": null,
   "metadata": {},
   "outputs": [],
   "source": [
    "granularity = 0.01\n",
    "x_max = 10\n",
    "tau_1 = 1\n",
    "T_1 = 1\n",
    "\n",
    "x = np.arange(-x_max, x_max, granularity)\n",
    "X, Y = np.meshgrid(x, x)\n",
    "\n",
    "r1 = 0\n",
    "\n",
    "for n in range(-x_max, x_max):\n",
    "    try:\n",
    "        an = (1/(n * np.pi) * np.sin((n * np.pi * tau_1) / (T_1))) \n",
    "    except:\n",
    "        an = tau_1 / T_1\n",
    "\n",
    "    r1 = r1 + an * np.cos((2 * np.pi * n * X) / T_1)\n",
    "\n",
    "print(r1)\n",
    "plt.set_cmap(\"gray\")\n",
    "plt.imshow(r1)"
   ]
  },
  {
   "cell_type": "code",
   "execution_count": null,
   "metadata": {},
   "outputs": [],
   "source": [
    "granularity = 0.05\n",
    "x_max = 10\n",
    "tau_2 = 1\n",
    "T_2 = 1\n",
    "theta2 = np.pi / 2\n",
    "\n",
    "x = np.arange(-x_max, x_max, granularity)\n",
    "X, Y = np.meshgrid(x, x)\n",
    "\n",
    "r2 = 0\n",
    "\n",
    "for n in range(-x_max, x_max):\n",
    "    try:\n",
    "        an = (1/(n * np.pi) * np.sin((n * np.pi * tau_2) / (T_2))) \n",
    "    except:\n",
    "        an = tau_2 / T_2\n",
    "\n",
    "    r2 = r2 + an * np.cos((2 * np.pi * n * (X * np.cos(theta2) + Y * np.sin(theta2))) / T_2)\n",
    "\n",
    "plt.set_cmap(\"gray\")\n",
    "plt.imshow(r2)"
   ]
  },
  {
   "cell_type": "code",
   "execution_count": null,
   "metadata": {},
   "outputs": [],
   "source": [
    "plt.imshow(r1 * r2)"
   ]
  },
  {
   "cell_type": "code",
   "execution_count": null,
   "metadata": {},
   "outputs": [],
   "source": [
    "def sinc_gen(opening_ratio):   \n",
    "    granularity = 0.01\n",
    "    x_max = 40\n",
    "    # opening_ratio = 1/5  # tau / T\n",
    "\n",
    "\n",
    "    x = np.arange(-x_max, x_max, granularity)\n",
    "    X, Y = np.meshgrid(x, x)\n",
    "\n",
    "    sinc = (1 / (X * np.pi * opening_ratio)) * np.sin(np.pi * X * opening_ratio) + np.sin(np.pi * Y * opening_ratio)\n",
    "    return sinc"
   ]
  },
  {
   "cell_type": "code",
   "execution_count": null,
   "metadata": {},
   "outputs": [],
   "source": [
    "for n in np.arange(1, 100):\n",
    "    plt.imsave(f'sinc/{n}.jpg', arr = sinc_gen(1/5 * np.sin(2 * np.pi * n / 100)) + 1 / 5)"
   ]
  },
  {
   "cell_type": "code",
   "execution_count": null,
   "metadata": {},
   "outputs": [],
   "source": [
    "def sinc_gen2(opening_ratio):   \n",
    "    granularity = 0.05\n",
    "    x_max = 10\n",
    "    # opening_ratio = 1/5  # tau / T\n",
    "\n",
    "\n",
    "    x = np.arange(-x_max, x_max, granularity)\n",
    "    X, Y = np.meshgrid(x, x)\n",
    "\n",
    "    sinc = (1 / (X * np.pi * opening_ratio)) * np.sin(np.pi * X * opening_ratio) + (1 / (Y * np.pi * opening_ratio)) * np.sin(np.pi * Y * opening_ratio)\n",
    "    return sinc\n",
    "\n",
    "for n in np.arange(1, 100):\n",
    "    plt.imsave(f'sinc2/{n}.jpg', arr = sinc_gen2(1/5 * np.sin(2 * np.pi * n / 100)) + 1 / 5)"
   ]
  },
  {
   "cell_type": "code",
   "execution_count": null,
   "metadata": {},
   "outputs": [],
   "source": [
    "def sinc_gen3(opening_ratio):   \n",
    "    granularity = 0.01\n",
    "    x_max = 10\n",
    "    # opening_ratio = 1/5  # tau / T\n",
    "\n",
    "\n",
    "    x = np.arange(-x_max, x_max, granularity)\n",
    "    X, Y = np.meshgrid(x, x)\n",
    "\n",
    "    sinc = (1 / (X * np.pi * opening_ratio)) * np.sin(np.pi * X * opening_ratio) * (1 / (Y * np.pi * opening_ratio)) * np.sin(np.pi * Y * opening_ratio)\n",
    "    return sinc\n",
    "\n",
    "for n in np.arange(1, 200):\n",
    "    plt.imsave(f'sinc3/{n}.jpg', arr = sinc_gen3(opening_ratio = 3 / 8 * np.sin(2 * np.pi * n / 100) + 3/8))"
   ]
  },
  {
   "cell_type": "code",
   "execution_count": null,
   "metadata": {},
   "outputs": [],
   "source": [
    "import os\n",
    "import cv2\n",
    "\n",
    "img_array = []\n",
    "file_array = []\n",
    "base = 'C:/Users/nicor/.vscode/Digital_Audio/Fourier_Img/sinc3/'\n",
    "frame_cnt = len([entry for entry in os.listdir(base) if os.path.isfile(os.path.join(base, entry))])\n",
    "\n",
    "\n",
    "for i in range(1, frame_cnt):\n",
    "    file_array.append(base + str(i) + '.jpg')\n",
    "\n",
    "import numpy as np\n",
    "import cv2\n",
    "from cv2 import dnn\n",
    " \n",
    "#--------Model file paths--------#\n",
    "proto_file = 'Model\\colorization_deploy_v2.prototxt'\n",
    "model_file = 'Model\\colorization_release_v2.caffemodel'\n",
    "hull_pts = 'Model\\pts_in_hull.npy'\n",
    "img_path = 'images/img1.jpg'\n",
    "#--------------#--------------#\n",
    " \n",
    "#--------Reading the model params--------#\n",
    "net = dnn.readNetFromCaffe(proto_file,model_file)\n",
    "kernel = np.load(hull_pts)\n",
    "\n",
    "img_array_c = []\n",
    "for i in range(0, len(file_array)):\n",
    "    img = cv2.imread(file_array[i], 1)\n",
    "    scaled = img.astype(\"float32\") / 255.0\n",
    "    lab_img = cv2.cvtColor(scaled, cv2.COLOR_BGR2LAB)\n",
    "    #-----------------------------------#---------------------#\n",
    "    \n",
    "    # add the cluster centers as 1x1 convolutions to the model\n",
    "    class8 = net.getLayerId(\"class8_ab\")\n",
    "    conv8 = net.getLayerId(\"conv8_313_rh\")\n",
    "    pts = kernel.transpose().reshape(2, 313, 1, 1)\n",
    "    net.getLayer(class8).blobs = [pts.astype(\"float32\")]\n",
    "    net.getLayer(conv8).blobs = [np.full([1, 313], 2.606, dtype=\"float32\")]\n",
    "    #-----------------------------------#---------------------#\n",
    "    \n",
    "    # we'll resize the image for the network\n",
    "    resized = cv2.resize(lab_img, (224, 224))\n",
    "    # split the L channel\n",
    "    L = cv2.split(resized)[0]\n",
    "    # mean subtraction\n",
    "    L -= 50\n",
    "    #-----------------------------------#---------------------#\n",
    "    \n",
    "    # predicting the ab channels from the input L channel\n",
    "    \n",
    "    net.setInput(cv2.dnn.blobFromImage(L))\n",
    "    ab_channel = net.forward()[0, :, :, :].transpose((1, 2, 0))\n",
    "    # resize the predicted 'ab' volume to the same dimensions as our\n",
    "    # input image\n",
    "    ab_channel = cv2.resize(ab_channel, (img.shape[1], img.shape[0]))\n",
    "    \n",
    "    \n",
    "    # Take the L channel from the image\n",
    "    L = cv2.split(lab_img)[0]\n",
    "    # Join the L channel with predicted ab channel\n",
    "    colorized = np.concatenate((L[:, :, np.newaxis], ab_channel), axis=2)\n",
    "    \n",
    "    # Then convert the image from Lab to BGR\n",
    "    colorized = cv2.cvtColor(colorized, cv2.COLOR_LAB2BGR)\n",
    "    colorized = np.clip(colorized, 0, 1)\n",
    "    \n",
    "    # change the image to 0-255 range and convert it from float32 to int\n",
    "    colorized = (255 * colorized).astype(\"uint8\")\n",
    "    \n",
    "    # Let's resize the images and show them together\n",
    "    img = cv2.resize(img,(640,640))\n",
    "    colorized = cv2.resize(colorized,(640,640))\n",
    "    \n",
    "    img_array_c.append(colorized * i)\n",
    "    height, width, layers = colorized.shape\n",
    "    size = (width,height)\n",
    "\n",
    "out = cv2.VideoWriter(f'sinc3.mp4', cv2.VideoWriter_fourcc(*'mp4v'), 10, size)\n",
    "\n",
    "for i in range(len(img_array_c)):\n",
    "    out.write(img_array_c[i])\n",
    "out.release()"
   ]
  },
  {
   "cell_type": "markdown",
   "metadata": {},
   "source": [
    "$$\n",
    "R(u) = \\sum_{n=-\\infty}^{\\infty} a_n \\delta(u - n/T)"
   ]
  },
  {
   "cell_type": "markdown",
   "metadata": {},
   "source": [
    "$$\n",
    "a_n = \\frac{1}{n \\pi} \\sin(\\frac {\\pi n \\tau}{T}) = \\frac{\\tau}{T} sinc(\\frac {n \\tau}{T})\n",
    "$$"
   ]
  },
  {
   "cell_type": "code",
   "execution_count": 13,
   "metadata": {},
   "outputs": [],
   "source": [
    "import numpy as np\n",
    "import cv2\n",
    "def create_frame(iterator):\n",
    "    img = 0 * np.ones(shape = (1000, 1000))\n",
    "    tau = 1\n",
    "    T = 5\n",
    "    impulse_thickness = 10\n",
    "    y_displacement = 500\n",
    "    x_displacement = 500\n",
    "    impulse_count = 30\n",
    "    impulse_spacing = 30\n",
    "    scale = 1000\n",
    "    time = 0\n",
    "\n",
    "    for n in np.arange(-16, impulse_count, 1):\n",
    "\n",
    "        if n == 0:\n",
    "            an = np.cos(iterator/100*2*np.pi)\n",
    "            an_s = abs(int(200 * an))\n",
    "            for c in range(0, an_s):\n",
    "                for t in range(0, impulse_thickness):\n",
    "                    if an > 0:\n",
    "                        img[c + 500, 500 + t] = 255\n",
    "                    else:\n",
    "                        img[(c + 500), 500 + t] = 255\n",
    "\n",
    "        else:\n",
    "            an = 1/(n * np.pi) * np.sin(np.pi * n * tau / T) * np.cos(iterator/100*2*np.pi)\n",
    "            an_s = abs(int(an * scale))\n",
    "\n",
    "            for c in range(0, an_s):\n",
    "                for t in range(0, impulse_thickness):\n",
    "                    if an > 0:\n",
    "                        y = c + y_displacement\n",
    "                        x = x_displacement + (impulse_spacing * n + t)\n",
    "                        if y > 1000 or x > 1000:\n",
    "                            pass\n",
    "                        else:\n",
    "                            img[y, x] = 255\n",
    "                    else:\n",
    "                        y = y_displacement - c\n",
    "                        x = x_displacement + (impulse_spacing * n + t)\n",
    "                        if y > 1000 or x > 1000:\n",
    "                            pass\n",
    "                        else:\n",
    "                            img[y, x] = 255\n",
    "\n",
    "    cv2.imwrite(f'sinc_anim/{iterator}.jpg', img)\n",
    "\n",
    "for i in range(0, 100):\n",
    "    create_frame(i)\n",
    "\n"
   ]
  },
  {
   "cell_type": "code",
   "execution_count": 14,
   "metadata": {},
   "outputs": [],
   "source": [
    "import os\n",
    "import cv2\n",
    "\n",
    "img_array = []\n",
    "file_array = []\n",
    "#base = '/Users/nicolasromano/Documents/code/AlgoRhythms/Digital_Audio/Fiesta_Red/sinc_anim/'\n",
    "base = 'C:/Users/nicor/.vscode/Digital_Audio/Fiesta_Red/sinc_anim/'\n",
    "frame_cnt = len([entry for entry in os.listdir(base) if os.path.isfile(os.path.join(base, entry))])\n",
    "\n",
    "\n",
    "for i in range(0, 10*frame_cnt):\n",
    "    file_array.append(base + str(i % 100) + '.jpg')\n",
    "\n",
    "for i in range(0, len(file_array)):\n",
    "    img = cv2.imread(file_array[i], 1)\n",
    "    img_array.append(img)\n",
    "    height, width, layers = img.shape\n",
    "    size = (width,height)\n",
    "\n",
    "out = cv2.VideoWriter(f'sinc_oscillate.mp4', cv2.VideoWriter_fourcc(*'mp4v'), 60, size)\n",
    "\n",
    "for i in range(len(img_array)):\n",
    "    out.write(img_array[i])\n",
    "out.release()"
   ]
  }
 ],
 "metadata": {
  "kernelspec": {
   "display_name": "Python 3.11.2 ('venv': venv)",
   "language": "python",
   "name": "python3"
  },
  "language_info": {
   "codemirror_mode": {
    "name": "ipython",
    "version": 3
   },
   "file_extension": ".py",
   "mimetype": "text/x-python",
   "name": "python",
   "nbconvert_exporter": "python",
   "pygments_lexer": "ipython3",
   "version": "3.10.4"
  },
  "orig_nbformat": 4,
  "vscode": {
   "interpreter": {
    "hash": "dd145e6e274c3e7cbb262e4d64e307cdd2c340995a87068f9fcb42657e1c7fcd"
   }
  }
 },
 "nbformat": 4,
 "nbformat_minor": 2
}
