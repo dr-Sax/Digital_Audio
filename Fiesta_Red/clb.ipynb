{
 "cells": [
  {
   "cell_type": "code",
   "execution_count": 1,
   "metadata": {},
   "outputs": [],
   "source": [
    "import os\n",
    "import cv2\n",
    "import numpy as np\n",
    "import numpy as np\n",
    "import pandas as pd\n",
    "from scipy.fft import fft2, ifft2, ifftshift, fftshift\n",
    "import matplotlib.pyplot as plt\n",
    "%matplotlib inline\n",
    "import time"
   ]
  },
  {
   "cell_type": "code",
   "execution_count": 2,
   "metadata": {},
   "outputs": [],
   "source": [
    "def ResizeWithAspectRatio(image, width=None, height=None, inter=cv2.INTER_AREA):\n",
    "    dim = None\n",
    "    (h, w) = image.shape[:2]\n",
    "\n",
    "    if width is None and height is None:\n",
    "        return image\n",
    "    if width is None:\n",
    "        r = height / float(h)\n",
    "        dim = (int(w * r), height)\n",
    "    else:\n",
    "        r = width / float(w)\n",
    "        dim = (width, int(h * r))\n",
    "\n",
    "    return cv2.resize(image, dim, interpolation=inter)"
   ]
  },
  {
   "cell_type": "code",
   "execution_count": 3,
   "metadata": {},
   "outputs": [
    {
     "name": "stdout",
     "output_type": "stream",
     "text": [
      "1131\n"
     ]
    }
   ],
   "source": [
    "img = cv2.imread(\"clbporchrokr.jpg\")\n",
    "\n",
    "resize = ResizeWithAspectRatio(img, width=1000) # Resize by width OR\n",
    "h = resize.shape[0]\n",
    "w = resize.shape[1]\n",
    "print(h)"
   ]
  },
  {
   "cell_type": "code",
   "execution_count": 4,
   "metadata": {},
   "outputs": [],
   "source": [
    "def zoom(img, zoom_factor=2):\n",
    "    return cv2.resize(img, None, fx=zoom_factor, fy=zoom_factor)"
   ]
  },
  {
   "cell_type": "code",
   "execution_count": 5,
   "metadata": {},
   "outputs": [],
   "source": [
    "for i in range(0, h - 150):\n",
    "    img = cv2.imread(\"clbporchrokr.jpg\")\n",
    "    resize = ResizeWithAspectRatio(img, width=1000) # Resize by width OR\n",
    "    resize[i:150 + i, 0:w] = zoom(resize[i:120 + i, 100:900], 5/4)\n",
    "    cv2.imwrite(f'clb_gens/{i}.jpg', resize)"
   ]
  },
  {
   "cell_type": "code",
   "execution_count": 10,
   "metadata": {},
   "outputs": [],
   "source": [
    "import os\n",
    "import cv2\n",
    "\n",
    "img_array = []\n",
    "file_array = []\n",
    "base = '/Users/nicolasromano/Documents/code/AlgoRhythms/Digital_Audio/Fiesta_Red/clb_gens/'\n",
    "frame_cnt = len([entry for entry in os.listdir(base) if os.path.isfile(os.path.join(base, entry))])\n",
    "\n",
    "\n",
    "for i in range(0, 980):\n",
    "    file_array.append(base + str(i) + '.jpg')\n",
    "\n",
    "for i in range(0, len(file_array)):\n",
    "    img = cv2.imread(file_array[i], 1)\n",
    "    img_array.append(img * (i % 220))\n",
    "    height, width, layers = img.shape\n",
    "    size = (width,height)\n",
    "\n",
    "out = cv2.VideoWriter(f'clb1.mp4', cv2.VideoWriter_fourcc(*'mp4v'), 60, size)\n",
    "\n",
    "for i in range(len(img_array)):\n",
    "    out.write(img_array[i])\n",
    "out.release()"
   ]
  }
 ],
 "metadata": {
  "kernelspec": {
   "display_name": "Python 3.11.2 ('venv': venv)",
   "language": "python",
   "name": "python3"
  },
  "language_info": {
   "codemirror_mode": {
    "name": "ipython",
    "version": 3
   },
   "file_extension": ".py",
   "mimetype": "text/x-python",
   "name": "python",
   "nbconvert_exporter": "python",
   "pygments_lexer": "ipython3",
   "version": "3.11.2"
  },
  "orig_nbformat": 4,
  "vscode": {
   "interpreter": {
    "hash": "dd145e6e274c3e7cbb262e4d64e307cdd2c340995a87068f9fcb42657e1c7fcd"
   }
  }
 },
 "nbformat": 4,
 "nbformat_minor": 2
}
