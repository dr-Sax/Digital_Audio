{
 "cells": [
  {
   "cell_type": "code",
   "execution_count": 1,
   "metadata": {},
   "outputs": [],
   "source": [
    "import os\n",
    "import cv2\n",
    "import numpy as np\n",
    "import numpy as np\n",
    "import pandas as pd\n",
    "from scipy.fft import fft2, ifft2, ifftshift, fftshift\n",
    "import matplotlib.pyplot as plt\n",
    "%matplotlib inline"
   ]
  },
  {
   "cell_type": "code",
   "execution_count": null,
   "metadata": {},
   "outputs": [],
   "source": [
    "def ResizeWithAspectRatio(image, width=None, height=None, inter=cv2.INTER_AREA):\n",
    "    dim = None\n",
    "    (h, w) = image.shape[:2]\n",
    "\n",
    "    if width is None and height is None:\n",
    "        return image\n",
    "    if width is None:\n",
    "        r = height / float(h)\n",
    "        dim = (int(w * r), height)\n",
    "    else:\n",
    "        r = width / float(w)\n",
    "        dim = (width, int(h * r))\n",
    "\n",
    "    return cv2.resize(image, dim, interpolation=inter)"
   ]
  },
  {
   "cell_type": "code",
   "execution_count": null,
   "metadata": {},
   "outputs": [],
   "source": [
    "img = cv2.imread(\"Crunch.jpg\")\n",
    "\n",
    "resize = ResizeWithAspectRatio(img, width=1280) # Resize by width OR\n",
    "cv2.imshow('rfc crunch', resize)\n",
    "cv2.waitKey(0)\n",
    "cv2.destroyAllWindows()"
   ]
  },
  {
   "cell_type": "code",
   "execution_count": null,
   "metadata": {},
   "outputs": [],
   "source": [
    "pix_width = resize.shape[0]\n",
    "pix_height = resize.shape[1]\n",
    "color_channel_cnt = resize.shape[2]\n",
    "pix_width"
   ]
  },
  {
   "cell_type": "code",
   "execution_count": null,
   "metadata": {},
   "outputs": [],
   "source": [
    "def smear(phi = 0):\n",
    "    img = cv2.imread(\"Crunch.jpg\")\n",
    "    altered_img = img\n",
    "\n",
    "    for r in range(0, pix_width):\n",
    "        for c in range(0, pix_height):\n",
    "            for ch in range(0, color_channel_cnt):\n",
    "                try:\n",
    "                    theta = np.tanh(c / r) + phi\n",
    "                except:\n",
    "                    theta = phi\n",
    "                radius = np.sqrt((r**2 + c**2))\n",
    "                altered_img[r][c][ch] = img[min(abs(int(radius * np.cos(theta))), 2999)][min(abs(int(radius * np.sin(theta))), 2999)][ch]\n",
    "                \n",
    "    resize = ResizeWithAspectRatio(altered_img, width=1280)\n",
    "\n",
    "    return resize\n",
    "\n",
    "\n"
   ]
  },
  {
   "cell_type": "code",
   "execution_count": null,
   "metadata": {},
   "outputs": [],
   "source": [
    "def smear_2(opening_ratio = 1, img = resize):\n",
    "    granularity = 1\n",
    "    x_max = pix_width / 2\n",
    "    # opening_ratio = 1/5  # tau / T\n",
    "\n",
    "\n",
    "    x = np.arange(-x_max, x_max, granularity)\n",
    "    X, Y = np.meshgrid(x, x)\n",
    "\n",
    "    sinc = (1 / (X * np.pi * opening_ratio)) * np.sin(np.pi * X * opening_ratio) * (1 / (Y * np.pi * opening_ratio)) * np.sin(np.pi * Y * opening_ratio)\n",
    "    sinc_n = sinc / (150*np.nanmax(sinc))\n",
    "    sinc_rgb = np.dstack((sinc_n, sinc_n, sinc_n))\n",
    "    return sinc_rgb * img"
   ]
  },
  {
   "cell_type": "code",
   "execution_count": null,
   "metadata": {},
   "outputs": [],
   "source": [
    "for i in range(100, 1000):\n",
    "    imgw = smear_2(1/i)\n",
    "    cv2.imwrite(f'gens_3/{i}.jpg', resize * imgw)\n"
   ]
  },
  {
   "cell_type": "code",
   "execution_count": null,
   "metadata": {},
   "outputs": [],
   "source": [
    "import time\n",
    "img_array = []\n",
    "for i in range(100, 500):\n",
    "    sinc = smear_2(1/i)\n",
    "    time.sleep(50)\n",
    "    cv2.imwrite(f'gens_3/{i}.jpg', sinc)\n",
    "#     img_array.append(sinc)\n",
    "#     height, width, layers = sinc.shape\n",
    "#     size = (width,height)\n",
    "\n",
    "# out = cv2.VideoWriter(f'rfc.mp4', cv2.VideoWriter_fourcc(*'mp4v'), 10, size)\n",
    "\n",
    "# for i in range(len(img_array)):\n",
    "#     out.write(img_array[i])\n",
    "# out.release()\n"
   ]
  },
  {
   "cell_type": "code",
   "execution_count": null,
   "metadata": {},
   "outputs": [],
   "source": [
    "img_cnt = 100\n",
    "for n in range(0, img_cnt):\n",
    "    phi = img_cnt / 2 * np.sin(2 * np.pi * n / img_cnt) + img_cnt / 2\n",
    "    img = smear(phi = phi)\n",
    "    path = f'C:/Users/nicor/.vscode/Digital_Audio/Fiesta_Red/gens_2/{n}.jpg'\n",
    "    cv2.imwrite(filename = path, img = img)\n",
    "    "
   ]
  },
  {
   "cell_type": "code",
   "execution_count": null,
   "metadata": {},
   "outputs": [],
   "source": [
    "import os\n",
    "import cv2\n",
    "\n",
    "img_array = []\n",
    "file_array = []\n",
    "base = 'C:/Users/nicor/.vscode/Digital_Audio/Fiesta_Red/gens_3/'\n",
    "frame_cnt = len([entry for entry in os.listdir(base) if os.path.isfile(os.path.join(base, entry))])\n",
    "\n",
    "\n",
    "for i in range(100, 1000):\n",
    "    file_array.append(base + str(i) + '.jpg')\n",
    "\n",
    "for i in range(0, len(file_array)):\n",
    "    img = cv2.imread(file_array[i], 1)\n",
    "    img_array.append(img * i)\n",
    "    height, width, layers = img.shape\n",
    "    size = (width,height)\n",
    "\n",
    "out = cv2.VideoWriter(f'rfc2.mp4', cv2.VideoWriter_fourcc(*'mp4v'), 100, size)\n",
    "\n",
    "for i in range(len(img_array)):\n",
    "    out.write(img_array[i])\n",
    "out.release()"
   ]
  },
  {
   "cell_type": "code",
   "execution_count": null,
   "metadata": {},
   "outputs": [],
   "source": [
    "granularity = 0.01\n",
    "x_max = 5\n",
    "tau_1 = 1\n",
    "T_1 = 1\n",
    "\n",
    "x = np.arange(-x_max, x_max, granularity)\n",
    "X, Y = np.meshgrid(x, x)\n",
    "\n",
    "r1 = 0\n",
    "\n",
    "for n in range(-x_max, x_max):\n",
    "    try:\n",
    "        an = (1/(n * np.pi) * np.sin((n * np.pi * tau_1) / (T_1))) \n",
    "    except:\n",
    "        an = tau_1 / T_1\n",
    "\n",
    "    r1 = r1 + an * np.cos((2 * np.pi * n * X) / T_1)\n",
    "print(type(r1))\n",
    "t_r1 = np.tile(r1, (3, 3))\n",
    "print(len(t_r1))\n",
    "t_r1_norm = t_r1 / np.linalg.norm(t_r1, ord = 2, axis = 0, keepdims = True) - 0.01\n",
    "rgb_r1_t = np.dstack((t_r1_norm, t_r1_norm, t_r1_norm))\n",
    "plt.imshow(rgb_r1_t * img)"
   ]
  },
  {
   "cell_type": "code",
   "execution_count": null,
   "metadata": {},
   "outputs": [],
   "source": [
    "def sinc_gen(opening_ratio):   \n",
    "    granularity = 0.01\n",
    "    x_max = 5\n",
    "    # opening_ratio = 1/5  # tau / T\n",
    "\n",
    "\n",
    "    x = np.arange(-x_max, x_max, granularity)\n",
    "    X, Y = np.meshgrid(x, x)\n",
    "\n",
    "    sinc = (1 / (X * np.pi * opening_ratio)) * np.sin(np.pi * X * opening_ratio) + np.sin(np.pi * Y * opening_ratio)\n",
    "    \n",
    "\n",
    "    t_r1 = np.tile(sinc, (3, 3))\n",
    "    print(t_r1.max())\n",
    "    t_r1_norm = t_r1 / t_r1.max()\n",
    "    rgb_r1_t = np.dstack((t_r1_norm, t_r1_norm, t_r1_norm))\n",
    "\n",
    "    return rgb_r1_t *img / 255"
   ]
  },
  {
   "cell_type": "code",
   "execution_count": null,
   "metadata": {},
   "outputs": [],
   "source": [
    "img.max()"
   ]
  },
  {
   "cell_type": "code",
   "execution_count": null,
   "metadata": {},
   "outputs": [],
   "source": [
    "a = sinc_gen(1/10)\n",
    "plt.set_cmap('viridis')\n",
    "plt.imshow(np.clip(a, 0, 1))"
   ]
  },
  {
   "cell_type": "code",
   "execution_count": null,
   "metadata": {},
   "outputs": [],
   "source": [
    "for n in np.arange(1, 200):\n",
    "    plt.imsave(f'gens/{n}.jpg', arr = np.clip(sinc_gen(opening_ratio = n), 0, 1))"
   ]
  }
 ],
 "metadata": {
  "kernelspec": {
   "display_name": "venv",
   "language": "python",
   "name": "python3"
  },
  "language_info": {
   "codemirror_mode": {
    "name": "ipython",
    "version": 3
   },
   "file_extension": ".py",
   "mimetype": "text/x-python",
   "name": "python",
   "nbconvert_exporter": "python",
   "pygments_lexer": "ipython3",
   "version": "3.10.4"
  },
  "orig_nbformat": 4
 },
 "nbformat": 4,
 "nbformat_minor": 2
}
